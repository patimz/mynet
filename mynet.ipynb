{
 "cells": [
  {
   "cell_type": "markdown",
   "id": "directed-adoption",
   "metadata": {},
   "source": [
    "In this notebook we will build an artificial neural net from scratch which will be trained on the [MNIST dataset](http://yann.lecun.com/exdb/mnist/) containing hand-written digits 0-9. We will access the dataset through [keras](keras.io)."
   ]
  },
  {
   "cell_type": "code",
   "execution_count": 1,
   "id": "initial-iceland",
   "metadata": {},
   "outputs": [],
   "source": [
    "import tensorflow as tf\n",
    "import matplotlib.pyplot as plt\n",
    "import numpy as np"
   ]
  },
  {
   "cell_type": "code",
   "execution_count": 2,
   "id": "twelve-stations",
   "metadata": {},
   "outputs": [],
   "source": [
    "mnist = tf.keras.datasets.mnist\n",
    "(x, y), (x_val, y_val) = mnist.load_data()\n",
    "x = tf.keras.utils.normalize(x, axis=1)\n",
    "x_val = tf.keras.utils.normalize(x_val, axis=1)"
   ]
  },
  {
   "cell_type": "markdown",
   "id": "adult-completion",
   "metadata": {},
   "source": [
    "Each data point in _**x**_ is a 28x28 matrix whose elements correspond to the intensity on a gray scale. Each matrix is paired with a label which we store in _**y**_. This is what one data point looks like"
   ]
  },
  {
   "cell_type": "code",
   "execution_count": 4,
   "id": "welcome-professor",
   "metadata": {},
   "outputs": [
    {
     "data": {
      "text/plain": [
       "(<matplotlib.image.AxesImage at 0x103cd4350>, 3)"
      ]
     },
     "execution_count": 4,
     "metadata": {},
     "output_type": "execute_result"
    },
    {
     "data": {
      "image/png": "[encoded data removed]",
      "text/plain": [
       "<Figure size 432x288 with 1 Axes>"
      ]
     },
     "metadata": {
      "needs_background": "light"
     },
     "output_type": "display_data"
    }
   ],
   "source": [
    "plt.imshow(x[7], cmap=plt.cm.binary), y[7]"
   ]
  },
  {
   "cell_type": "markdown",
   "id": "offshore-ethernet",
   "metadata": {},
   "source": [
    "We will leave only 3's and 7's. We will also turn the labels into booleans (i.e. 1 for '3', 0 for '7')"
   ]
  },
  {
   "cell_type": "code",
   "execution_count": 5,
   "id": "driving-panel",
   "metadata": {},
   "outputs": [
    {
     "data": {
      "text/plain": [
       "((12396, 28, 28), 12396)"
      ]
     },
     "execution_count": 5,
     "metadata": {},
     "output_type": "execute_result"
    }
   ],
   "source": [
    "y_3vs7 = np.array([yi for yi in y if yi==3 or yi==7])\n",
    "y_3vs7bin = np.array([1 if yi==3 else 0 for yi in y_3vs7])\n",
    "x_3vs7 = np.array([xi for xi, yi in zip(x, y) if yi==3 or yi==7])\n",
    "y_val_3vs7 = np.array([yi for yi in y_val if yi==3 or yi==7])\n",
    "y_val_3vs7bin = np.array([1 if yi==3 else 0 for yi in y_val_3vs7])\n",
    "x_val_3vs7 = np.array([xi for xi, yi in zip(x_val, y_val) if yi==3 or yi==7])\n",
    "x_3vs7.shape, len(y_3vs7)"
   ]
  },
  {
   "cell_type": "markdown",
   "id": "infinite-lebanon",
   "metadata": {},
   "source": [
    "We will flatten the last two dimensions so that 28x28 matrices will be 784-element-long vectors"
   ]
  },
  {
   "cell_type": "code",
   "execution_count": 6,
   "id": "understood-horizontal",
   "metadata": {},
   "outputs": [
    {
     "data": {
      "text/plain": [
       "(12396, 784)"
      ]
     },
     "execution_count": 6,
     "metadata": {},
     "output_type": "execute_result"
    }
   ],
   "source": [
    "x_3vs7_2d = x_3vs7.reshape(-1, 28*28)\n",
    "x_3vs7_2d.shape"
   ]
  },
  {
   "cell_type": "markdown",
   "id": "dutch-career",
   "metadata": {},
   "source": [
    "Our simple neural net will contain one layer with a linear function **xb** x **weights** + **bias** where we also apply `sigmoid` in order to transform the output to (0,1) interval. In the second layer, if the transformed output is greater than 0.5 the image is considered to be of '3', otherwise - '7'."
   ]
  },
  {
   "cell_type": "code",
   "execution_count": 7,
   "id": "sunrise-diving",
   "metadata": {},
   "outputs": [],
   "source": [
    "class MyNet:\n",
    "    def __init__(self, size, mu=0, std=1.0):        \n",
    "        self.weights = np.random.normal(mu, std, size)\n",
    "        self.bias = np.random.normal(mu, std, 1)\n",
    "        \n",
    "    def update_parameters(self, weights_grad, bias_grad, lr):\n",
    "        self.weights -= weights_grad*lr\n",
    "        self.bias -= bias_grad*lr        \n",
    "    \n",
    "    def linear(self, x):\n",
    "        return x@self.weights + self.bias\n",
    "        \n",
    "    def sigmoid(self, x): return 1 / (1 + np.exp(-x))\n",
    "    \n",
    "    # first layer of the net\n",
    "    def predict(self, x):\n",
    "        return self.sigmoid(self.linear(x))\n",
    "    \n",
    "    # final layer of the net whith two states (either 3 or 7)\n",
    "    def is3(self, x):\n",
    "        if len(x) == 1:\n",
    "            if self.predict(x)>0.5:\n",
    "                print(\"Yes, it's 3\")\n",
    "            else:\n",
    "                print(\"No, it's 7\")\n",
    "        else:\n",
    "            print(\"Multiple images selected\")        \n",
    "        \n",
    "    def accuracy(self, x, labels):\n",
    "        correct = (self.predict(x)>0.5) == labels\n",
    "        return correct.mean()    "
   ]
  },
  {
   "cell_type": "markdown",
   "id": "outside-playlist",
   "metadata": {},
   "source": [
    "The loss function of our prediction. It measures the margin of our predictions against the targets (labels)"
   ]
  },
  {
   "cell_type": "code",
   "execution_count": 8,
   "id": "wired-canal",
   "metadata": {},
   "outputs": [],
   "source": [
    "def mnist_loss(model, x, targets):\n",
    "    preds = model.predict(x)\n",
    "    loss = np.array([1-p if t==1 else p for p, t in zip(preds, targets)])\n",
    "    return loss.mean()"
   ]
  },
  {
   "cell_type": "markdown",
   "id": "statutory-transmission",
   "metadata": {},
   "source": [
    "In order to find an optimal set of model parameters (weights & bias) we need to determine the behavior of the loss function subject to change in model parameters. Such a behavior is quantified by what is known as _gradient_. To find the gradient, we need to calculate the derivative at each element of the vector **weights** and **bias**. We will use a finite-difference approximation for the derivative of a function **f**: \n",
    "\n",
    "(**f**(**model_parameters**+**dx**) - **f**(**model_parameters**-**dx**)) / (2***dx**),\n",
    "\n",
    "where **dx**=0.001"
   ]
  },
  {
   "cell_type": "code",
   "execution_count": 9,
   "id": "honey-carry",
   "metadata": {},
   "outputs": [],
   "source": [
    "def mnist_loss_grad(model, batch, labels):\n",
    "    dx = 0.001\n",
    "    old_bias = model.bias.item()\n",
    "    model.bias = old_bias + dx\n",
    "    loss_up = mnist_loss(model, batch, labels)\n",
    "    model.bias = old_bias - dx\n",
    "    loss_down = mnist_loss(model, batch, labels)\n",
    "    bias_grad = (loss_up - loss_down)/2/dx\n",
    "    model.bias = np.array([old_bias])\n",
    "    \n",
    "    N = len(model.weights)\n",
    "    weights_grad = np.zeros(N)\n",
    "    for i in range(N):\n",
    "        old_weight = model.weights[i].item() # saving the weight\n",
    "        model.weights[i] = old_weight + dx\n",
    "        loss_up = mnist_loss(model, batch, labels)\n",
    "        model.weights[i] = old_weight - dx\n",
    "        loss_down = mnist_loss(model, batch, labels)  \n",
    "        weights_grad[i] = (loss_up - loss_down)/2/dx\n",
    "        model.weights[i] = old_weight # returning to the old value       \n",
    "    \n",
    "    return weights_grad, bias_grad"
   ]
  },
  {
   "cell_type": "markdown",
   "id": "computational-ratio",
   "metadata": {},
   "source": [
    "Now that we have a gradient we can start training our model. We will update the model parameters like so\n",
    "\n",
    "**parameters** -= **gradient** x **lr**,\n",
    "\n",
    "where **lr** is a learning rate. This operation is implemented in `MyNet` component function `update_parameters`."
   ]
  },
  {
   "cell_type": "code",
   "execution_count": 10,
   "id": "flying-sauce",
   "metadata": {},
   "outputs": [],
   "source": [
    "def train_epoch(data, model, lr=1., batch_size=100):\n",
    "    x, y = data\n",
    "    for b in range(batch_size):\n",
    "        index_range = slice(b*batch_size,(b+1)*batch_size)\n",
    "        batch = x[index_range]\n",
    "        labels = y[index_range]\n",
    "        \n",
    "        weights_grad, bias_grad = mnist_loss_grad(model, batch, labels)\n",
    "        model.update_parameters(weights_grad, bias_grad, lr)"
   ]
  },
  {
   "cell_type": "markdown",
   "id": "agricultural-perspective",
   "metadata": {},
   "source": [
    "The function above will take in the following required parameters: data - (x,y) tuple; model - (`MyNet` object). After we trained the model, we should estimate how well our predictions are. We will do that via `MyNet` component function `accuracy`"
   ]
  },
  {
   "cell_type": "code",
   "execution_count": 11,
   "id": "olympic-water",
   "metadata": {},
   "outputs": [],
   "source": [
    "def model_fit(train_data, test_data, model, epochs):\n",
    "    x, y = test_data\n",
    "    print(\"accuracy before training:\", model.accuracy(x, y))\n",
    "    for epoch in range(epochs):        \n",
    "        train_epoch(train_data, model)\n",
    "        print(\"epoch\", epoch+1, \", accuracy:\", model.accuracy(x, y))"
   ]
  },
  {
   "cell_type": "markdown",
   "id": "serial-strip",
   "metadata": {},
   "source": [
    "We will split our data into a training and testing set. The usual practice is such about 80% is used for training."
   ]
  },
  {
   "cell_type": "code",
   "execution_count": 12,
   "id": "another-forest",
   "metadata": {},
   "outputs": [],
   "source": [
    "ind = 9917 # about 80% of the original set\n",
    "train_data = x_3vs7_2d[:ind], y_3vs7bin[:ind]\n",
    "test_data = x_3vs7_2d[ind:], y_3vs7bin[ind:]"
   ]
  },
  {
   "cell_type": "markdown",
   "id": "proprietary-conservative",
   "metadata": {},
   "source": [
    "Creating a `MyNet` object and initializing it to 784 random initial weights + bias"
   ]
  },
  {
   "cell_type": "code",
   "execution_count": 13,
   "id": "opposite-seven",
   "metadata": {},
   "outputs": [],
   "source": [
    "mynet = MyNet(28*28)"
   ]
  },
  {
   "cell_type": "markdown",
   "id": "revised-coverage",
   "metadata": {},
   "source": [
    "Training the model for 3 epochs"
   ]
  },
  {
   "cell_type": "code",
   "execution_count": 14,
   "id": "stunning-supervisor",
   "metadata": {},
   "outputs": [
    {
     "name": "stdout",
     "output_type": "stream",
     "text": [
      "accuracy before training: 0.49415086728519564\n",
      "epoch 1 , accuracy: 0.9233561920129084\n",
      "epoch 2 , accuracy: 0.9499798305768455\n",
      "epoch 3 , accuracy: 0.9576442113755547\n"
     ]
    }
   ],
   "source": [
    "model_fit(train_data, test_data, mynet, epochs=3)"
   ]
  },
  {
   "cell_type": "markdown",
   "id": "double-cathedral",
   "metadata": {},
   "source": [
    "After we achieved a satisfactory accuracy, let's see how our model is able to recognize the images. We will pick an arbitrary image from x_val_3vs7 data set which was not part of our training or testing set so the model never saw it. `MyNet` component function `is3` is implementing the final layer of the neural net, where the question \"Is this 3?\" is asked."
   ]
  },
  {
   "cell_type": "code",
   "execution_count": 15,
   "id": "digital-underwear",
   "metadata": {},
   "outputs": [
    {
     "name": "stdout",
     "output_type": "stream",
     "text": [
      "Yes, it's 3\n"
     ]
    },
    {
     "data": {
      "image/png": "[encoded data removed]",
      "text/plain": [
       "<Figure size 432x288 with 1 Axes>"
      ]
     },
     "metadata": {
      "needs_background": "light"
     },
     "output_type": "display_data"
    }
   ],
   "source": [
    "x_ind = 125 # try a different image here\n",
    "plt.imshow(x_val_3vs7[x_ind], cmap=plt.cm.binary)\n",
    "mynet.is3(x_val_3vs7[x_ind].reshape(-1, 28*28))"
   ]
  },
  {
   "cell_type": "code",
   "execution_count": null,
   "id": "outdoor-monaco",
   "metadata": {},
   "outputs": [],
   "source": []
  }
 ],
 "metadata": {
  "kernelspec": {
   "display_name": "Python 3",
   "language": "python",
   "name": "python3"
  },
  "language_info": {
   "codemirror_mode": {
    "name": "ipython",
    "version": 3
   },
   "file_extension": ".py",
   "mimetype": "text/x-python",
   "name": "python",
   "nbconvert_exporter": "python",
   "pygments_lexer": "ipython3",
   "version": "3.7.10"
  }
 },
 "nbformat": 4,
 "nbformat_minor": 5
}
